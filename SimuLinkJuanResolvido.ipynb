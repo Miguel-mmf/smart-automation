{
  "nbformat": 4,
  "nbformat_minor": 0,
  "metadata": {
    "colab": {
      "provenance": []
    },
    "kernelspec": {
      "name": "python3",
      "display_name": "Python 3"
    },
    "language_info": {
      "name": "python"
    }
  },
  "cells": [
    {
      "cell_type": "code",
      "execution_count": 4,
      "metadata": {
        "id": "BMv72cSAeENq"
      },
      "outputs": [],
      "source": [
        "# !apt-get install -y libngspice0-dev\n",
        "# !pip install PySpice"
      ]
    },
    {
      "cell_type": "code",
      "source": [
        "import warnings\n",
        "\n",
        "warnings.filterwarnings(\"ignore\")"
      ],
      "metadata": {
        "id": "9TqKxAtqHQhu"
      },
      "execution_count": 5,
      "outputs": []
    },
    {
      "cell_type": "code",
      "source": [
        "import PySpice.Logging.Logging as Logging\n",
        "## logger = Logging.setup_logging()\n",
        "\n",
        "from PySpice.Spice.Netlist import Circuit\n",
        "from PySpice.Unit import *\n",
        "\n",
        "#########################################################################\n",
        "\n",
        "circuit = Circuit('Maxima Transferencia de Potencia')\n",
        "Vin = 10@u_V\n",
        "circuit.V('input',1, circuit.gnd, Vin)\n",
        "R1 = 3@u_Ω\n",
        "R2 = 1@u_Ω\n",
        "RL = 50@u_Ω\n",
        "circuit.R(1,1,2,R1)\n",
        "circuit.R(2,2,circuit.gnd,R2)\n",
        "circuit.R(3,2,circuit.gnd,RL)\n",
        "\n",
        "simulator = circuit.simulator(temperature=25, nominal_temperature=25)\n",
        "analysis = simulator.operating_point()\n",
        "\n",
        "for node in analysis.nodes.values():\n",
        "    print('Node {}: {:4.1f} V'.format(str(node), float(node)))\n",
        "i = 0\n",
        "for node in analysis.nodes.values():\n",
        "    if i==0:\n",
        "        fit = float(node)\n",
        "    i+=1\n",
        "print(fit)"
      ],
      "metadata": {
        "colab": {
          "base_uri": "https://localhost:8080/"
        },
        "id": "Jl4KXCpbeE5B",
        "outputId": "8c424f13-0317-4827-a881-bdfb0cba39ce"
      },
      "execution_count": 6,
      "outputs": [
        {
          "output_type": "stream",
          "name": "stdout",
          "text": [
            "Node 2:  2.5 V\n",
            "Node 1: 10.0 V\n",
            "2.463054187192118\n"
          ]
        }
      ]
    },
    {
      "cell_type": "code",
      "source": [
        "import PySpice.Logging.Logging as Logging\n",
        "logger = Logging.setup_logging()\n",
        "\n",
        "libraries_path = find_libraries()\n",
        "spice_library = SpiceLibrary(libraries_path)\n",
        "\n",
        "from PySpice.Spice.Netlist import Circuit\n",
        "from PySpice.Unit import *\n",
        "from PySpice.Doc.ExampleTools import find_libraries\n",
        "from PySpice.Spice.Library import SpiceLibrary\n",
        "from PySpice.Spice.Netlist import Circuit\n",
        "from PySpice.Spice.Parser import SpiceParser\n",
        "from PySpice.Unit import *\n",
        "\n",
        "#circuit.include(spice_library['2n2222a'])\n",
        "\n",
        "#########################################################################\n",
        "\n",
        "circuit = Circuit('Exemplo 1')\n",
        "Vin = 22@u_V\n",
        "Vs = 1@u_mV\n",
        "f = 10@u_kHz\n",
        "circuit.V('input',3, circuit.gnd, Vin)\n",
        "circuit.AcLine('VS',1,circuit.gnd, rms_voltage=Vs, frequency=f)\n",
        "R1 = 56@u_kΩ\n",
        "R2 = 8.2@u_kΩ\n",
        "RC = 6.8@u_kΩ\n",
        "RE = 1.5@u_kΩ\n",
        "C = 10@u_uF\n",
        "CE = 20@u_uF\n",
        "circuit.C(1,1,2,C)\n",
        "circuit.R(2, 2, circuit.gnd, R2)\n",
        "circuit.R(1, 3, 2, R1)\n",
        "circuit.R(3,3,4,RC)\n",
        "circuit.R(4,5,circuit.gnd, RE)\n",
        "circuit.C(2,5,circuit.gnd, CE)\n",
        "circuit.BJT(1, 4, 2, 5, model='generic')\n",
        "circuit.model('generic', 'npn')\n",
        "\n",
        "simulator = circuit.simulator(temperature=25, nominal_temperature=25)\n",
        "analysis = simulator.operating_point()\n",
        "\n",
        "for node in analysis.nodes.values():\n",
        "    print('Node {}: {:4.1f} V'.format(str(node), float(node)))\n",
        "i = 0\n",
        "for node in analysis.nodes.values():\n",
        "    if i==0:\n",
        "        fit = float(node)\n",
        "    i+=1\n",
        "print(fit)"
      ],
      "metadata": {
        "colab": {
          "base_uri": "https://localhost:8080/"
        },
        "id": "wUpvYYXPVLCg",
        "outputId": "c10a2642-1f2b-4d25-9f21-4f8e86dbb3cf"
      },
      "execution_count": 15,
      "outputs": [
        {
          "output_type": "stream",
          "name": "stdout",
          "text": [
            "Node 5:  1.9 V\n",
            "Node 4: 13.3 V\n",
            "Node 2:  2.7 V\n",
            "Node 1:  0.0 V\n",
            "Node 3: 22.0 V\n",
            "1.9427642149766235\n"
          ]
        }
      ]
    }
  ]
}