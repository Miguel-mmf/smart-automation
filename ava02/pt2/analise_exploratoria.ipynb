{
 "cells": [
  {
   "cell_type": "code",
   "execution_count": 6,
   "metadata": {},
   "outputs": [],
   "source": [
    "import os\n",
    "import numpy as np\n",
    "import pandas as pd\n",
    "import seaborn as sns\n",
    "import matplotlib.pyplot as plt\n",
    "from math import ceil"
   ]
  },
  {
   "cell_type": "code",
   "execution_count": 32,
   "metadata": {},
   "outputs": [
    {
     "name": "stdout",
     "output_type": "stream",
     "text": [
      "Warning: failed to launch javaldx - java may not function correctly\n",
      "convert /home/enacom/Documentos/github/smart-automation/ava02/pt2/38.xlsx as a Calc document -> /home/enacom/Documentos/github/smart-automation/ava02/pt2/data/38.csv using filter : Text - txt - csv (StarCalc)\n"
     ]
    }
   ],
   "source": [
    "!libreoffice --convert-to csv '30.xlsx' --outdir 'data'\n",
    "!libreoffice --convert-to csv '35.xlsx' --outdir 'data'\n",
    "!libreoffice --convert-to csv '40.xlsx' --outdir 'data'\n",
    "!libreoffice --convert-to csv '45.xlsx' --outdir 'data'\n",
    "!libreoffice --convert-to csv '50.xlsx' --outdir 'data'\n",
    "!libreoffice --convert-to csv '55.xlsx' --outdir 'data'\n",
    "!libreoffice --convert-to csv '60.xlsx' --outdir 'data'\n",
    "\n",
    "!libreoffice --convert-to csv '33.xlsx' --outdir 'data'\n",
    "!libreoffice --convert-to csv '38.xlsx' --outdir 'data'\n",
    "!libreoffice --convert-to csv '48.xlsx' --outdir 'data'\n",
    "!libreoffice --convert-to csv '53.xlsx' --outdir 'data'\n",
    "!libreoffice --convert-to csv '58.xlsx' --outdir 'data'"
   ]
  },
  {
   "cell_type": "code",
   "execution_count": 33,
   "metadata": {},
   "outputs": [
    {
     "data": {
      "text/plain": [
       "['Frequencia CMB',\n",
       " 'Angulo CV-1',\n",
       " 'CV-1',\n",
       " 'CV-2',\n",
       " 'CV-3',\n",
       " 'PT-1',\n",
       " 'PT-2',\n",
       " 'PT-3',\n",
       " 'PT-4',\n",
       " 'PT-5',\n",
       " 'FT-1',\n",
       " 'FT-2',\n",
       " 'desconhecida']"
      ]
     },
     "execution_count": 33,
     "metadata": {},
     "output_type": "execute_result"
    }
   ],
   "source": [
    "cols = list(pd.read_csv('data/40.csv', nrows=10).columns)\n",
    "cols[2] = \"Angulo CV-1\"\n",
    "cols[-1] = \"desconhecida\"\n",
    "del cols[0]\n",
    "cols"
   ]
  },
  {
   "cell_type": "code",
   "execution_count": 34,
   "metadata": {},
   "outputs": [
    {
     "name": "stdout",
     "output_type": "stream",
     "text": [
      "Arquivo: 50.csv | Linhas: 2064\n",
      "Arquivo: 33.csv | Linhas: 1753\n",
      "Arquivo: 55.csv | Linhas: 1983\n",
      "Arquivo: 48.csv | Linhas: 2063\n",
      "Arquivo: 60.csv | Linhas: 1963\n",
      "Arquivo: 35.csv | Linhas: 2105\n",
      "Arquivo: 38.csv | Linhas: 2048\n",
      "Arquivo: 40.csv | Linhas: 2087\n",
      "Arquivo: 53.csv | Linhas: 2035\n",
      "Arquivo: 58.csv | Linhas: 2010\n",
      "Arquivo: 30.csv | Linhas: 2162\n",
      "Número médio de linhas: 2024\n"
     ]
    }
   ],
   "source": [
    "num_medio_linhas = 0\n",
    "for file in os.listdir('data'):\n",
    "    if file.endswith('.csv'):\n",
    "        try:\n",
    "            df = pd.read_csv(f'./data/{file}')\n",
    "            print(f\"Arquivo: {file} | Linhas: {len(df)}\")\n",
    "            num_medio_linhas += len(df)\n",
    "        except:\n",
    "            print(f\"Erro ao abrir o arquivo {file}\")\n",
    "    # else:\n",
    "    #     os.remove(f'./data/{file}')\n",
    "\n",
    "num_medio_linhas = int(num_medio_linhas/len(os.listdir('data')))\n",
    "print(f\"Número médio de linhas: {num_medio_linhas}\")"
   ]
  },
  {
   "cell_type": "code",
   "execution_count": 39,
   "metadata": {},
   "outputs": [
    {
     "name": "stderr",
     "output_type": "stream",
     "text": [
      "/tmp/ipykernel_451394/2236484532.py:7: UserWarning: Parsing dates in %d/%m/%Y %H:%M:%S format when dayfirst=False (the default) was specified. Pass `dayfirst=True` or specify a format to silence this warning.\n",
      "  df.index = pd.to_datetime(df['Time'].apply(lambda x: x[:len('2023-04-18 02:59:55')]))\n",
      "/tmp/ipykernel_451394/2236484532.py:7: UserWarning: Parsing dates in %d/%m/%Y %H:%M:%S format when dayfirst=False (the default) was specified. Pass `dayfirst=True` or specify a format to silence this warning.\n",
      "  df.index = pd.to_datetime(df['Time'].apply(lambda x: x[:len('2023-04-18 02:59:55')]))\n",
      "/tmp/ipykernel_451394/2236484532.py:7: UserWarning: Parsing dates in %d/%m/%Y %H:%M:%S format when dayfirst=False (the default) was specified. Pass `dayfirst=True` or specify a format to silence this warning.\n",
      "  df.index = pd.to_datetime(df['Time'].apply(lambda x: x[:len('2023-04-18 02:59:55')]))\n",
      "/tmp/ipykernel_451394/2236484532.py:7: UserWarning: Parsing dates in %d/%m/%Y %H:%M:%S format when dayfirst=False (the default) was specified. Pass `dayfirst=True` or specify a format to silence this warning.\n",
      "  df.index = pd.to_datetime(df['Time'].apply(lambda x: x[:len('2023-04-18 02:59:55')]))\n",
      "/tmp/ipykernel_451394/2236484532.py:7: UserWarning: Parsing dates in %d/%m/%Y %H:%M:%S format when dayfirst=False (the default) was specified. Pass `dayfirst=True` or specify a format to silence this warning.\n",
      "  df.index = pd.to_datetime(df['Time'].apply(lambda x: x[:len('2023-04-18 02:59:55')]))\n",
      "/tmp/ipykernel_451394/2236484532.py:7: UserWarning: Parsing dates in %d/%m/%Y %H:%M:%S format when dayfirst=False (the default) was specified. Pass `dayfirst=True` or specify a format to silence this warning.\n",
      "  df.index = pd.to_datetime(df['Time'].apply(lambda x: x[:len('2023-04-18 02:59:55')]))\n",
      "/tmp/ipykernel_451394/2236484532.py:7: UserWarning: Parsing dates in %d/%m/%Y %H:%M:%S format when dayfirst=False (the default) was specified. Pass `dayfirst=True` or specify a format to silence this warning.\n",
      "  df.index = pd.to_datetime(df['Time'].apply(lambda x: x[:len('2023-04-18 02:59:55')]))\n"
     ]
    },
    {
     "name": "stdout",
     "output_type": "stream",
     "text": [
      "Arquivo: 50.csv | Linhas: 546\n",
      "Arquivo: 33.csv | Linhas: 439\n",
      "Arquivo: 55.csv | Linhas: 543\n",
      "Arquivo: 48.csv | Linhas: 527\n",
      "Arquivo: 60.csv | Linhas: 523\n",
      "Arquivo: 35.csv | Linhas: 538\n",
      "Arquivo: 38.csv | Linhas: 3542402\n",
      "Arquivo: 40.csv | Linhas: 541\n",
      "Arquivo: 53.csv | Linhas: 549\n",
      "Arquivo: 58.csv | Linhas: 551\n",
      "Arquivo: 30.csv | Linhas: 548\n"
     ]
    },
    {
     "name": "stderr",
     "output_type": "stream",
     "text": [
      "/tmp/ipykernel_451394/2236484532.py:7: UserWarning: Parsing dates in %d/%m/%Y %H:%M:%S format when dayfirst=False (the default) was specified. Pass `dayfirst=True` or specify a format to silence this warning.\n",
      "  df.index = pd.to_datetime(df['Time'].apply(lambda x: x[:len('2023-04-18 02:59:55')]))\n",
      "/tmp/ipykernel_451394/2236484532.py:7: UserWarning: Parsing dates in %d/%m/%Y %H:%M:%S format when dayfirst=False (the default) was specified. Pass `dayfirst=True` or specify a format to silence this warning.\n",
      "  df.index = pd.to_datetime(df['Time'].apply(lambda x: x[:len('2023-04-18 02:59:55')]))\n",
      "/tmp/ipykernel_451394/2236484532.py:7: UserWarning: Parsing dates in %d/%m/%Y %H:%M:%S format when dayfirst=False (the default) was specified. Pass `dayfirst=True` or specify a format to silence this warning.\n",
      "  df.index = pd.to_datetime(df['Time'].apply(lambda x: x[:len('2023-04-18 02:59:55')]))\n",
      "/tmp/ipykernel_451394/2236484532.py:7: UserWarning: Parsing dates in %d/%m/%Y %H:%M:%S format when dayfirst=False (the default) was specified. Pass `dayfirst=True` or specify a format to silence this warning.\n",
      "  df.index = pd.to_datetime(df['Time'].apply(lambda x: x[:len('2023-04-18 02:59:55')]))\n"
     ]
    }
   ],
   "source": [
    "os.makedirs('./data/1s', exist_ok=True)\n",
    "\n",
    "for file in os.listdir('data'):\n",
    "    if file.endswith('.csv'):\n",
    "        try:\n",
    "            df = pd.read_csv(f'./data/{file}', nrows=num_medio_linhas, sep=',',decimal=',')\n",
    "            df.index = pd.to_datetime(df['Time'].apply(lambda x: x[:len('2023-04-18 02:59:55')]))\n",
    "            df.drop(columns=['Time'], inplace=True)\n",
    "            df.columns = cols            \n",
    "            df = df.astype(np.float16)\n",
    "            df = df.resample('1s').mean()\n",
    "            print(f\"Arquivo: {file} | Linhas: {len(df)}\")\n",
    "            df.to_csv(f'./data/1s/{file.split('.')[0]}_1s.csv', index=False)\n",
    "            \n",
    "        except Exception as e:\n",
    "            print(e)\n",
    "            print(f\"Erro ao abrir o arquivo {file}\")"
   ]
  },
  {
   "cell_type": "code",
   "execution_count": null,
   "metadata": {},
   "outputs": [],
   "source": []
  }
 ],
 "metadata": {
  "kernelspec": {
   "display_name": "ava02",
   "language": "python",
   "name": "ava02"
  },
  "language_info": {
   "codemirror_mode": {
    "name": "ipython",
    "version": 3
   },
   "file_extension": ".py",
   "mimetype": "text/x-python",
   "name": "python",
   "nbconvert_exporter": "python",
   "pygments_lexer": "ipython3",
   "version": "3.12.0"
  }
 },
 "nbformat": 4,
 "nbformat_minor": 2
}
