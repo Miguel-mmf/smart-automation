{
 "cells": [
  {
   "cell_type": "code",
   "execution_count": null,
   "metadata": {},
   "outputs": [],
   "source": [
    "import numpy as np\n",
    "import pandas as pd\n",
    "import simpful as sf\n",
    "from functools import reduce\n",
    "import matplotlib.pyplot as plt\n",
    "from matplotlib import cm\n",
    "# from plotly.subplots import make_subplots\n",
    "from plotly import graph_objects as go\n",
    "from mpl_toolkits.mplot3d import Axes3D"
   ]
  },
  {
   "cell_type": "code",
   "execution_count": null,
   "metadata": {},
   "outputs": [],
   "source": [
    "FS = sf.FuzzySystem()"
   ]
  },
  {
   "cell_type": "code",
   "execution_count": null,
   "metadata": {},
   "outputs": [],
   "source": [
    "# Entrada: Erro\n",
    "E1 = sf.FuzzySet(function=sf.Trapezoidal_MF(-15, -15, -10, -5), term=\"EGN\")\n",
    "E2 = sf.FuzzySet(function=sf.Triangular_MF(-7, -4, -0.5) , term=\"EN\")\n",
    "E3 = sf.FuzzySet(function=sf.Triangular_MF(-1.5, 0, 1.5), term=\"EZ\")\n",
    "E4 = sf.FuzzySet(function=sf.Triangular_MF(0.5, 4, 7), term=\"EP\")\n",
    "E5 = sf.FuzzySet(function=sf.Trapezoidal_MF(5, 10, 15, 15), term=\"EGP\")\n",
    "erro = sf.LinguisticVariable([E1,E2,E3,E4,E5], universe_of_discourse=[-15,15])\n",
    "FS.add_linguistic_variable(\"ERRO\", LV=erro)\n",
    "\n",
    "# Entrada: Derivada do Erro\n",
    "DE1 = sf.FuzzySet(function=sf.Trapezoidal_MF(-5, -5, -3, -1.5), term=\"DEGN\")\n",
    "DE2 = sf.FuzzySet(function=sf.Triangular_MF(-2.5, -1, -0.25) , term=\"DEN\")\n",
    "DE3 = sf.FuzzySet(function=sf.Triangular_MF(-0.5, 0, 0.5), term=\"DEZ\")\n",
    "DE4 = sf.FuzzySet(function=sf.Triangular_MF(0.25, 1, 2.5), term=\"DEP\")\n",
    "DE5 = sf.FuzzySet(function=sf.Trapezoidal_MF(1.5, 3, 5, 5), term=\"DEGP\")\n",
    "derivadaErro = sf.LinguisticVariable([DE1,DE2,DE3,DE4,DE5], universe_of_discourse=[-5,5])\n",
    "FS.add_linguistic_variable(\"derivadaErro\", LV=derivadaErro)\n",
    "\n",
    "# Entrada: Derivada da Frequência\n",
    "DF1 = sf.FuzzySet(function=sf.Trapezoidal_MF(-5, -5, -4, -2), term=\"DFGN\")\n",
    "DF2 = sf.FuzzySet(function=sf.Triangular_MF(-3, -1.5, -0.25) , term=\"DFN\")\n",
    "DF3 = sf.FuzzySet(function=sf.Triangular_MF(-0.5, 0, 0.5), term=\"DFZ\")\n",
    "DF4 = sf.FuzzySet(function=sf.Triangular_MF(0.25, 1.5, 3), term=\"DFP\")\n",
    "DF5 = sf.FuzzySet(function=sf.Trapezoidal_MF(2, 4, 5, 5), term=\"DFGP\")\n",
    "derivadaFrequencia = sf.LinguisticVariable([DF1,DF2,DF3,DF4,DF5], universe_of_discourse=[-5,5])\n",
    "FS.add_linguistic_variable(\"derivadaFrequencia\", LV=derivadaFrequencia)"
   ]
  }
 ],
 "metadata": {
  "kernelspec": {
   "display_name": "Python 3",
   "language": "python",
   "name": "python3"
  },
  "language_info": {
   "name": "python",
   "version": "3.10.11"
  }
 },
 "nbformat": 4,
 "nbformat_minor": 2
}
