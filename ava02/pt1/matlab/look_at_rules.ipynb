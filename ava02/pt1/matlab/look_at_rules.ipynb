{
 "cells": [
  {
   "cell_type": "code",
   "execution_count": 4,
   "metadata": {},
   "outputs": [],
   "source": [
    "with open('Fuzzy_q1.fis','r') as file:\n",
    "    data = file.readlines()\n",
    "    file.close()"
   ]
  },
  {
   "cell_type": "code",
   "execution_count": 5,
   "metadata": {},
   "outputs": [
    {
     "data": {
      "text/plain": [
       "['1 1 1, 0 1 1 1 2 (1) : 1',\n",
       " '1 1 2, 1 1 2 2 2 (1) : 1',\n",
       " '1 1 3, 2 2 2 2 3 (1) : 1',\n",
       " '1 2 1, 2 1 1 3 1 (1) : 1',\n",
       " '1 2 2, 3 1 3 1 2 (1) : 1']"
      ]
     },
     "execution_count": 5,
     "metadata": {},
     "output_type": "execute_result"
    }
   ],
   "source": [
    "data = map(lambda x: x.replace('\\n',''), data[78:])\n",
    "data = [i for i in data]\n",
    "data[:5]"
   ]
  },
  {
   "cell_type": "code",
   "execution_count": 6,
   "metadata": {},
   "outputs": [],
   "source": [
    "with open('smart_air_condition_system2.fis','r') as file:\n",
    "    data2 = file.readlines()\n",
    "    file.close()"
   ]
  },
  {
   "cell_type": "code",
   "execution_count": 12,
   "metadata": {},
   "outputs": [
    {
     "data": {
      "text/plain": [
       "['1 1 1, 1 1 1 1 1 (1) : 1',\n",
       " '1 2 2, 2 2 2 2 2 (1) : 1',\n",
       " '1 3 3, 3 3 3 3 3 (1) : 1',\n",
       " '2 1 1, 1 1 1 1 1 (1) : 1',\n",
       " '2 2 2, 2 2 2 2 2 (1) : 1']"
      ]
     },
     "execution_count": 12,
     "metadata": {},
     "output_type": "execute_result"
    }
   ],
   "source": [
    "data2 = map(lambda x: x.replace('\\n',''), data2[78:])\n",
    "data2 = [i for i in data2]\n",
    "data2[:5]"
   ]
  },
  {
   "cell_type": "code",
   "execution_count": 14,
   "metadata": {},
   "outputs": [
    {
     "data": {
      "text/plain": [
       "24"
      ]
     },
     "execution_count": 14,
     "metadata": {},
     "output_type": "execute_result"
    }
   ],
   "source": [
    "len(data2[0])"
   ]
  },
  {
   "cell_type": "code",
   "execution_count": 15,
   "metadata": {},
   "outputs": [
    {
     "data": {
      "text/plain": [
       "24"
      ]
     },
     "execution_count": 15,
     "metadata": {},
     "output_type": "execute_result"
    }
   ],
   "source": [
    "len(data[0])"
   ]
  },
  {
   "cell_type": "code",
   "execution_count": 20,
   "metadata": {},
   "outputs": [
    {
     "name": "stdout",
     "output_type": "stream",
     "text": [
      "A regra 1 1 1, 1 1 1 1 1 (1) : 1 não está presente no arquivo Fuzzy_q1.fis\n",
      "A regra 1 2 2, 2 2 2 2 2 (1) : 1 não está presente no arquivo Fuzzy_q1.fis\n",
      "A regra 1 3 3, 3 3 3 3 3 (1) : 1 não está presente no arquivo Fuzzy_q1.fis\n",
      "A regra 2 1 1, 1 1 1 1 1 (1) : 1 não está presente no arquivo Fuzzy_q1.fis\n",
      "A regra 2 2 2, 2 2 2 2 2 (1) : 1 não está presente no arquivo Fuzzy_q1.fis\n",
      "A regra 2 3 3, 3 3 3 3 3 (1) : 1 não está presente no arquivo Fuzzy_q1.fis\n",
      "A regra 3 1 1, 1 1 1 1 1 (1) : 1 não está presente no arquivo Fuzzy_q1.fis\n",
      "A regra 3 2 2, 2 2 2 2 2 (1) : 1 não está presente no arquivo Fuzzy_q1.fis\n",
      "A regra 3 3 3, 3 3 3 3 3 (1) : 1 não está presente no arquivo Fuzzy_q1.fis\n",
      "A regra 1 1 1, 1 1 1 1 1 (1) : 1 não está presente no arquivo Fuzzy_q1.fis\n",
      "A regra 3 1 3, 3 3 3 3 3 (1) : 1 não está presente no arquivo Fuzzy_q1.fis\n",
      "A regra 1 2 1, 1 1 1 1 1 (1) : 1 não está presente no arquivo Fuzzy_q1.fis\n",
      "A regra 2 2 2, 2 2 2 2 2 (1) : 1 não está presente no arquivo Fuzzy_q1.fis\n",
      "A regra 3 2 3, 3 3 3 3 3 (1) : 1 não está presente no arquivo Fuzzy_q1.fis\n",
      "A regra 1 3 1, 1 1 1 1 1 (1) : 1 não está presente no arquivo Fuzzy_q1.fis\n",
      "A regra 2 3 2, 2 2 2 2 2 (1) : 1 não está presente no arquivo Fuzzy_q1.fis\n",
      "A regra 3 3 3, 3 3 3 3 3 (1) : 1 não está presente no arquivo Fuzzy_q1.fis\n",
      "A regra 1 1 1, 1 1 1 1 1 (1) : 1 não está presente no arquivo Fuzzy_q1.fis\n",
      "A regra 2 2 1, 2 2 2 2 2 (1) : 1 não está presente no arquivo Fuzzy_q1.fis\n",
      "A regra 3 3 1, 3 3 3 3 3 (1) : 1 não está presente no arquivo Fuzzy_q1.fis\n",
      "A regra 1 1 2, 1 1 1 1 1 (1) : 1 não está presente no arquivo Fuzzy_q1.fis\n",
      "A regra 2 2 2, 2 2 2 2 2 (1) : 1 não está presente no arquivo Fuzzy_q1.fis\n",
      "A regra 3 3 2, 3 3 3 3 3 (1) : 1 não está presente no arquivo Fuzzy_q1.fis\n",
      "A regra 1 1 3, 1 1 1 1 1 (1) : 1 não está presente no arquivo Fuzzy_q1.fis\n",
      "A regra 2 2 3, 2 2 2 2 2 (1) : 1 não está presente no arquivo Fuzzy_q1.fis\n",
      "A regra 3 3 3, 3 3 3 3 3 (1) : 1 não está presente no arquivo Fuzzy_q1.fis\n"
     ]
    }
   ],
   "source": [
    "for rule in data2:\n",
    "    aux = list()\n",
    "    for garcia_rule in data:\n",
    "        if rule == garcia_rule:\n",
    "            aux.append(1)\n",
    "            continue\n",
    "        else:\n",
    "            if aux == [] and garcia_rule == data[-1]:\n",
    "                print(f'A regra {rule} não está presente no arquivo Fuzzy_q1.fis')\n",
    "    # if rule not in data:\n",
    "    #     print(f'A regra {rule} não está presente no arquivo Fuzzy_q1.fis')"
   ]
  },
  {
   "cell_type": "code",
   "execution_count": null,
   "metadata": {},
   "outputs": [],
   "source": []
  }
 ],
 "metadata": {
  "kernelspec": {
   "display_name": "ava02",
   "language": "python",
   "name": "ava02"
  },
  "language_info": {
   "codemirror_mode": {
    "name": "ipython",
    "version": 3
   },
   "file_extension": ".py",
   "mimetype": "text/x-python",
   "name": "python",
   "nbconvert_exporter": "python",
   "pygments_lexer": "ipython3",
   "version": "3.12.0"
  }
 },
 "nbformat": 4,
 "nbformat_minor": 2
}
