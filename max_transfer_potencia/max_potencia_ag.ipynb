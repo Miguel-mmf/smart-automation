{
 "cells": [
  {
   "cell_type": "markdown",
   "metadata": {},
   "source": [
    "# Algoritmo Genético Binario\n",
    "___\n",
    "\n",
    "**Objetivo:** Minimizar x^2, dado que -10<x<10."
   ]
  },
  {
   "cell_type": "markdown",
   "metadata": {},
   "source": [
    "## Bibliotecas"
   ]
  },
  {
   "cell_type": "code",
   "execution_count": 1,
   "metadata": {},
   "outputs": [],
   "source": [
    "import numpy as np\n",
    "import pandas as pd\n",
    "from matplotlib import pyplot as plt\n",
    "%matplotlib inline"
   ]
  },
  {
   "cell_type": "markdown",
   "metadata": {},
   "source": [
    "## Funções de apoio"
   ]
  },
  {
   "cell_type": "code",
   "execution_count": 199,
   "metadata": {},
   "outputs": [],
   "source": [
    "#Conversão de Bits para Inteiro\n",
    "def binary_to_decimal(binary):\n",
    "    \"\"\"This function converts a binary number to a decimal number.\n",
    "\n",
    "    Args:\n",
    "        binary (_type_): _description_\n",
    "\n",
    "    Returns:\n",
    "        int: The decimal number.\n",
    "    \"\"\"    \n",
    "    return sum(\n",
    "        [\n",
    "            int(binary[-i-1])*2**i for i in range(len(binary))\n",
    "        ]\n",
    "    )\n",
    "\n",
    "#Função de Geração da População Inicial \n",
    "def populacaoBinaria(L,bits,xmin,xmax):\n",
    "    #População Inicial Aleatoria Binaria\n",
    "    temp = np.round(np.random.rand(L,bits))    \n",
    "    Po_Binario = temp.astype('int')\n",
    "    I = []\n",
    "    Po = []\n",
    "    for i in range(0,L):\n",
    "        x =  int(binary_to_decimal(Po_Binario[i,:]))\n",
    "        I.append(x)\n",
    "        y = xmin + x*(xmax-xmin)/(2**bits - 1)\n",
    "        Po.append(y)\n",
    "    return Po,Po_Binario\n",
    "    #População Inicial Aleatoria Transformada a Decimal  \n",
    "     \n",
    "#Função do Fitness\n",
    "def fitness(x):\n",
    "    fit = x**2\n",
    "    return fit\n",
    "\n",
    "#Avaliação do Fitnes da População\n",
    "def avaliacao(Po):\n",
    "    Fitness = []\n",
    "    for i in range(0,L):\n",
    "        Fitness.append(100-fitness(Po[i])) #Tornanndo um problema de maximização\n",
    "    return Fitness\n",
    "\n",
    "#Seleção dos Individuos para Reprodução\n",
    "def selecao(Po,Po_Binario,bits,Fitness):\n",
    "    #Seleção usando o método da roleta\n",
    "    L = len(Po)\n",
    "    Probabilidade = np.array(Fitness)/sum(Fitness)\n",
    "    Prob_Acumulativa = Probabilidade.cumsum()\n",
    "    #indice_Sel = np.zeros((1,L))\n",
    "    indice_Sel = []\n",
    "    for i in range(0,L):\n",
    "        roleta = np.random.rand()\n",
    "        z = filter(lambda r:r>roleta, Prob_Acumulativa)\n",
    "        T = len(list(z))\n",
    "        indice_Sel.append(L-T)\n",
    "    Ps_Binario = np.zeros((L,bits))\n",
    "    Ps = np.zeros((L,1))\n",
    "    for i in range(0,L):\n",
    "        Ps[i]=Po[indice_Sel[i]]\n",
    "        Ps_Binario[i,:] = Po_Binario[indice_Sel[i],:]\n",
    "    return Ps, Ps_Binario\n",
    "\n",
    "#Operação de Cruzamento\n",
    "def cruzamento(Ps_Binario,L,bits,probc):\n",
    "    #Operador de Cruzamento\n",
    "    Pc_Binario = np.zeros((L,bits))\n",
    "    for i in range(0,int(L/2)):                  #Seleciona (L/2) pares\n",
    "        r = np.random.rand()                     #Geração de um número aleatorio   \n",
    "        if r <= probc:                           #Se o numero aleatorio for menor do que probc então se realiza o cruzamento\n",
    "            alfa = np.random.randint(1,bits-1)   #Ponto de Cruzamento            \n",
    "            P1 = Ps_Binario[2*i-1+1,:]           #Pai 1\n",
    "            P2 = Ps_Binario[2*i+1,:]             #Pai 2            \n",
    "            Pc_Binario[2*i-1+1,:] = np.concatenate((P1[0:alfa+1], P2[alfa+1:bits]))   #Filho 1\n",
    "            Pc_Binario[2*i+1,:]   = np.concatenate((P2[0:alfa+1], P1[alfa+1:bits]))   #Filho 2  \n",
    "        else:\n",
    "            alfa = 0\n",
    "            Pc_Binario[2*i-1+1,:] = Ps_Binario[2*i-1+1,:]  #Copia o Pai 1\n",
    "            Pc_Binario[2*i+1,:]   = Ps_Binario[2*i+1,:]    #Copia o Pai 2 \n",
    "    return Pc_Binario       \n",
    "    \n",
    "#Operador de Mutação\n",
    "def mutacao(Pc_Binario,bits,L,loop,probm,xmin,xmax):\n",
    "    Pm_Binario = Pc_Binario\n",
    "    for i in range(0,L):    \n",
    "        for j in range(0,bits):\n",
    "            r = np.random.rand()                     #Geração de um número aleatorio   \n",
    "            if r <= probm:                           #Se o numero aleatorio for menor do que probm então se realiza a mutação\n",
    "                if (Pc_Binario[i][j] == 1):\n",
    "                    Pm_Binario[i][j] = 0\n",
    "                elif (Pc_Binario[i][j] == 0):\n",
    "                    Pm_Binario[i][j] = 1                 \n",
    "    #Avaliação da População após a Mutação  \n",
    "    Fitness_Final = []\n",
    "    Pfinal = []\n",
    "    for i in range(0,L):\n",
    "        x =  int(binary_to_decimal(Pm_Binario[i,:]))\n",
    "        y = xmin + x*(xmax-xmin)/(2**bits - 1)\n",
    "        Pfinal.append(y)\n",
    "        Fitness_Final.append(100-fitness(y))         \n",
    "    return Pm_Binario, Fitness_Final,Pfinal\n",
    "\n",
    "\n",
    "#Operador de Elitismo\n",
    "def elitismo(Fitness_Inicial,Fitness_Final,loop,Po,Po_Binario,Pm_Binario,Pfinal):\n",
    "    \n",
    "    #Substituindo o pior da População Inicial com o Melhor da População Final\n",
    "    Bad_Inicial = np.argmin(Fitness_Inicial)\n",
    "    Best_Final = np.argmax(Fitness_Final)\n",
    "    \n",
    "    if Fitness_Final[Best_Final] > Fitness_Inicial[Bad_Inicial]:\n",
    "        Po[Bad_Inicial] = Pfinal[Best_Final]\n",
    "        Po_Binario[Bad_Inicial,:] = Pm_Binario[Best_Final,:]\n",
    "        Fitness_Inicial = avaliacao(Po) \n",
    "    return Po,Po_Binario,Fitness_Inicial\n",
    "\n"
   ]
  },
  {
   "cell_type": "code",
   "execution_count": 200,
   "metadata": {},
   "outputs": [
    {
     "data": {
      "text/plain": [
       "[0, 20, 90, 102]"
      ]
     },
     "execution_count": 200,
     "metadata": {},
     "output_type": "execute_result"
    },
    {
     "data": {
      "image/png": "[encoded data removed]",
      "text/plain": [
       "<Figure size 432x288 with 1 Axes>"
      ]
     },
     "metadata": {
      "needs_background": "light"
     },
     "output_type": "display_data"
    }
   ],
   "source": [
    "# **************************************************************    \n",
    "# PROGRAMA PRINCIPAL\n",
    "#np.random.seed(500)\n",
    "xmin = -10                                             #Valor mínimo\n",
    "xmax = 10                                               #Valor máximo \n",
    "L = 10                                                   #Tamanho da população\n",
    "probc = 0.8                                             #Probabilidade de Cruzamento\n",
    "probm = 0.05                                            #Probabilidade de mutação \n",
    "geracoes = 20                                            #Numero de Gerações\n",
    "bits = 15                                                #Número de Bits para a representação do número   \n",
    "Po,Po_Binario = populacaoBinaria(L,bits,xmin,xmax)      #População inicial\n",
    "Fitness_Inicial = avaliacao(Po)                         #Avaliação do fitness da população inicial\n",
    "linha = []\n",
    "out = []\n",
    "SolucaoX = []\n",
    "#ALGORITMO GENETICO\n",
    "for loop in range(0,geracoes):\n",
    "    out.append(max(Fitness_Inicial))\n",
    "    linha.append(loop)\n",
    "    indice_Best_Solucao = np.argmax(Fitness_Inicial)\n",
    "    SolucaoX.append(Po[indice_Best_Solucao])\n",
    "    #Operador de Seleção Roleta\n",
    "    Ps, Ps_Binario = selecao(Po,Po_Binario,bits,Fitness_Inicial)    \n",
    "    #Operador de Cruzamento\n",
    "    Pc_Binario = cruzamento(Ps_Binario,L,bits,probc)\n",
    "    #Operador de Mutação\n",
    "    Pm_Binario,Fitness_Final,Pfinal = mutacao(Pc_Binario,bits,L,loop,probm,xmin,xmax)       \n",
    "    #operador de Elitismo\n",
    "    Po,Po_Binario,Fitness_Inicial = elitismo(Fitness_Inicial,Fitness_Final,loop,Po,Po_Binario,Pm_Binario,Pfinal)\n",
    "    \n",
    "\n",
    "#Solução Final\n",
    "plt.plot(linha, out, 'r--')\n",
    "plt.title(\"Fitness vs #Gerações\")\n",
    "plt.xlabel(\"Gerações\")\n",
    "plt.ylabel(\"Fitness\")\n",
    "plt.grid(\"on\")    \n",
    "plt.axis([0, geracoes, 90, 102])    \n",
    "    "
   ]
  },
  {
   "cell_type": "code",
   "execution_count": 201,
   "metadata": {},
   "outputs": [
    {
     "data": {
      "image/png": "[encoded data removed]",
      "text/plain": [
       "<Figure size 432x288 with 1 Axes>"
      ]
     },
     "metadata": {
      "needs_background": "light"
     },
     "output_type": "display_data"
    }
   ],
   "source": [
    "#Análise da Procura de Soluções\n",
    "in_array = np.arange(xmin,xmax,0.1)\n",
    "out_array = []   \n",
    "lista = range(len(in_array))\n",
    "for i in lista: \n",
    "    out_array.append(in_array[i]**2) \n",
    "\n",
    "SolucaoY = []    \n",
    "lista2 = range(len(SolucaoX))    \n",
    "for i in lista2:\n",
    "    SolucaoY.append(SolucaoX[i]**2)    \n",
    "  \n",
    "    \n",
    "#Figura    \n",
    "plt.plot(in_array, out_array, 'r--',SolucaoX,SolucaoY,'b.')  \n",
    "plt.title(\"Função Quadratica\")  \n",
    "plt.xlabel(\"X\")  \n",
    "plt.ylabel(\"Y\")  \n",
    "plt.grid()\n",
    "plt.show()  "
   ]
  },
  {
   "cell_type": "code",
   "execution_count": null,
   "metadata": {},
   "outputs": [],
   "source": []
  },
  {
   "cell_type": "code",
   "execution_count": 202,
   "metadata": {},
   "outputs": [
    {
     "data": {
      "image/png": "[encoded data removed]",
      "text/plain": [
       "<Figure size 432x288 with 2 Axes>"
      ]
     },
     "metadata": {
      "needs_background": "light"
     },
     "output_type": "display_data"
    }
   ],
   "source": [
    "#Juntando Figuras \n",
    "plt.subplot(1,2,1)\n",
    "plt.plot(linha, out, 'r--')\n",
    "plt.axis([0, geracoes, 90, 102]) \n",
    "plt.xlabel('Gerações')\n",
    "plt.ylabel('Fitness')\n",
    "plt.title('Evolução do AG')\n",
    "plt.grid('on')\n",
    "\n",
    "plt.subplot(1,2,2)\n",
    "plt.plot(in_array, out_array, 'r--',SolucaoX,SolucaoY,'b.')  \n",
    "plt.axis([xmin,xmax , 0, 100]) \n",
    "plt.xlabel('x')\n",
    "plt.title('Função Quadratica')\n",
    "plt.grid('on')\n"
   ]
  },
  {
   "cell_type": "code",
   "execution_count": 203,
   "metadata": {},
   "outputs": [
    {
     "data": {
      "text/plain": [
       "[0.5520798364207895,\n",
       " -0.0149540696432382,\n",
       " -0.0149540696432382,\n",
       " -0.0149540696432382,\n",
       " -0.003967406231879522,\n",
       " -0.003967406231879522,\n",
       " -0.003967406231879522,\n",
       " -0.003967406231879522,\n",
       " -0.003967406231879522,\n",
       " -0.003967406231879522,\n",
       " -0.003967406231879522,\n",
       " -0.003967406231879522,\n",
       " -0.0015259254737998162,\n",
       " -0.0015259254737998162,\n",
       " -0.0015259254737998162,\n",
       " -0.0015259254737998162,\n",
       " -0.00030518509475996325,\n",
       " -0.00030518509475996325,\n",
       " -0.00030518509475996325,\n",
       " -0.00030518509475996325]"
      ]
     },
     "execution_count": 203,
     "metadata": {},
     "output_type": "execute_result"
    }
   ],
   "source": [
    "#A melhor solução a cada geração\n",
    "SolucaoX"
   ]
  },
  {
   "cell_type": "code",
   "execution_count": null,
   "metadata": {},
   "outputs": [],
   "source": []
  },
  {
   "cell_type": "code",
   "execution_count": null,
   "metadata": {},
   "outputs": [],
   "source": []
  },
  {
   "cell_type": "code",
   "execution_count": null,
   "metadata": {},
   "outputs": [],
   "source": []
  },
  {
   "cell_type": "code",
   "execution_count": null,
   "metadata": {},
   "outputs": [],
   "source": []
  },
  {
   "cell_type": "code",
   "execution_count": null,
   "metadata": {},
   "outputs": [],
   "source": []
  },
  {
   "cell_type": "code",
   "execution_count": null,
   "metadata": {},
   "outputs": [],
   "source": []
  }
 ],
 "metadata": {
  "kernelspec": {
   "display_name": "ava02",
   "language": "python",
   "name": "ava02"
  },
  "language_info": {
   "codemirror_mode": {
    "name": "ipython",
    "version": 3
   },
   "file_extension": ".py",
   "mimetype": "text/x-python",
   "name": "python",
   "nbconvert_exporter": "python",
   "pygments_lexer": "ipython3",
   "version": "3.12.0"
  }
 },
 "nbformat": 4,
 "nbformat_minor": 2
}
